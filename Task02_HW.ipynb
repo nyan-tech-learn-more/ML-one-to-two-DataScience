{
  "nbformat": 4,
  "nbformat_minor": 0,
  "metadata": {
    "colab": {
      "provenance": [],
      "toc_visible": true,
      "authorship_tag": "ABX9TyMl0vUWfKo8HqwJeIKMrawZ",
      "include_colab_link": true
    },
    "kernelspec": {
      "name": "python3",
      "display_name": "Python 3"
    },
    "language_info": {
      "name": "python"
    }
  },
  "cells": [
    {
      "cell_type": "markdown",
      "metadata": {
        "id": "view-in-github",
        "colab_type": "text"
      },
      "source": [
        "<a href=\"https://colab.research.google.com/github/nyan-tech-learn-more/ML-one-to-two-DataScience/blob/main/Task02_HW.ipynb\" target=\"_parent\"><img src=\"https://colab.research.google.com/assets/colab-badge.svg\" alt=\"Open In Colab\"/></a>"
      ]
    },
    {
      "cell_type": "markdown",
      "source": [
        "# Task #02 作業 01"
      ],
      "metadata": {
        "id": "U2OJVB9pS-HD"
      }
    },
    {
      "cell_type": "markdown",
      "source": [
        "Task #02 作業 01【實作題】資料選取請從給定的 DataFrame 分別篩選出符合條件的資料：\n",
        "1. filtered by first column > 20?\n",
        "2. filtered by first column + second column > 50\n",
        "3. filtered by first column < 30 or second column > 30\n",
        "4. filtered by total sum of row > 100"
      ],
      "metadata": {
        "id": "9mndAt6OGSMQ"
      }
    },
    {
      "cell_type": "code",
      "source": [
        "import pandas as pd\n",
        "import numpy as np\n",
        "df = pd.DataFrame(np.random.randint(10, 40, 60).reshape(-1, 4))\n",
        "print(df)\n",
        "print('------------------')\n",
        "print('1. filtered by first column > 20?')\n",
        "# - 1. filtered by first column > 20?\n",
        "\n",
        "mask = df[0] > 20 #選取第一行,index0 且> 20\n",
        "print(df[mask]) #遮罩方法選取Dataframe的數據\n",
        "\n",
        "print('------------------')\n",
        "print('2. filtered by first column + second column > 50')\n",
        "# - 2. filtered by first column + second column > 50\n",
        "\n",
        "mask1 = df[0]\n",
        "mask2 = df[1]\n",
        "mask3 = df[0] + df[1] #將DataFrame第一欄和第二欄的元素相加,結果儲存在mask3中。\n",
        "print(df[mask3> 50])  #輸出DataFrame中,第一欄和第二欄元素之和大於50的所有列。\n",
        "\n",
        "#也可以整句寫一起\n",
        "filtered_df = df[(df[0] + df[1]) > 50]\n",
        "print(filtered_df)\n",
        "\n",
        "print('------------------')\n",
        "print('3. filtered by first column < 30 or second column > 30')\n",
        "# - 3. filtered by first column < 30 or second column > 30\n",
        "print(df[(df[0]<30) | (df[1]>30)])\n",
        " # df[0] < 30會產生一個布林Series,表示DataFrame第一欄中哪些元素小於30\n",
        " # df[1] > 30會產生另一個布林Series,表示DataFrame第二欄中哪些元素大於30。\n",
        "\n",
        "print('------------------')\n",
        "# - 4. filtered by total sum of row > 100\n",
        "print('4. filtered by total sum of row > 100')\n",
        "\n",
        "  #row > 100要讓每個欄相加\n",
        "row = df.sum(axis=1) #axis=column 相加\n",
        "print(df[row>100])\n"
      ],
      "metadata": {
        "colab": {
          "base_uri": "https://localhost:8080/"
        },
        "id": "lN7_OwjHGgBO",
        "outputId": "34caa450-6f3e-4f7c-8d25-4a9134410ff6"
      },
      "execution_count": null,
      "outputs": [
        {
          "output_type": "stream",
          "name": "stdout",
          "text": [
            "     0   1   2   3\n",
            "0   25  34  36  23\n",
            "1   14  24  22  23\n",
            "2   37  27  20  30\n",
            "3   25  37  31  39\n",
            "4   11  37  23  19\n",
            "5   12  15  37  27\n",
            "6   34  20  28  20\n",
            "7   27  14  33  27\n",
            "8   36  32  39  28\n",
            "9   12  10  37  30\n",
            "10  32  29  26  10\n",
            "11  39  36  21  30\n",
            "12  26  25  18  27\n",
            "13  36  21  14  12\n",
            "14  28  28  20  21\n",
            "------------------\n",
            "1. filtered by first column > 20?\n",
            "     0   1   2   3\n",
            "0   25  34  36  23\n",
            "2   37  27  20  30\n",
            "3   25  37  31  39\n",
            "6   34  20  28  20\n",
            "7   27  14  33  27\n",
            "8   36  32  39  28\n",
            "10  32  29  26  10\n",
            "11  39  36  21  30\n",
            "12  26  25  18  27\n",
            "13  36  21  14  12\n",
            "14  28  28  20  21\n",
            "------------------\n",
            "2. filtered by first column + second column > 50\n",
            "     0   1   2   3\n",
            "0   25  34  36  23\n",
            "2   37  27  20  30\n",
            "3   25  37  31  39\n",
            "6   34  20  28  20\n",
            "8   36  32  39  28\n",
            "10  32  29  26  10\n",
            "11  39  36  21  30\n",
            "12  26  25  18  27\n",
            "13  36  21  14  12\n",
            "14  28  28  20  21\n",
            "     0   1   2   3\n",
            "0   25  34  36  23\n",
            "2   37  27  20  30\n",
            "3   25  37  31  39\n",
            "6   34  20  28  20\n",
            "8   36  32  39  28\n",
            "10  32  29  26  10\n",
            "11  39  36  21  30\n",
            "12  26  25  18  27\n",
            "13  36  21  14  12\n",
            "14  28  28  20  21\n",
            "------------------\n",
            "3. filtered by first column < 30 or second column > 30\n",
            "     0   1   2   3\n",
            "0   25  34  36  23\n",
            "1   14  24  22  23\n",
            "3   25  37  31  39\n",
            "4   11  37  23  19\n",
            "5   12  15  37  27\n",
            "7   27  14  33  27\n",
            "8   36  32  39  28\n",
            "9   12  10  37  30\n",
            "11  39  36  21  30\n",
            "12  26  25  18  27\n",
            "14  28  28  20  21\n",
            "------------------\n",
            "4. filtered by total sum of row > 100\n",
            "     0   1   2   3\n",
            "0   25  34  36  23\n",
            "2   37  27  20  30\n",
            "3   25  37  31  39\n",
            "6   34  20  28  20\n",
            "7   27  14  33  27\n",
            "8   36  32  39  28\n",
            "11  39  36  21  30\n"
          ]
        }
      ]
    },
    {
      "cell_type": "code",
      "source": [
        "\n",
        "# - 1. filtered by first column > 20?\n",
        "print(df[df[0]>30])\n",
        "\n",
        "# - 2. filtered by first column + second column > 50\n",
        "print(df[df[0]+df[1]>50])\n",
        "\n",
        "# - 3. filtered by first column < 30 or second column > 30\n",
        "mask3 = (df[0] < 30) | (df[1] > 30)\n",
        "print(df[mask3])\n",
        "\n",
        "# - 4. filtered by total sum of row > 100\n",
        "print(df[df.sum(axis=1)>100])"
      ],
      "metadata": {
        "id": "UUsOVrBbQsVS",
        "outputId": "2693cf6f-c250-4848-e255-aed8802c2d95",
        "colab": {
          "base_uri": "https://localhost:8080/"
        }
      },
      "execution_count": null,
      "outputs": [
        {
          "output_type": "stream",
          "name": "stdout",
          "text": [
            "     0   1   2   3\n",
            "2   37  27  20  30\n",
            "6   34  20  28  20\n",
            "8   36  32  39  28\n",
            "10  32  29  26  10\n",
            "11  39  36  21  30\n",
            "13  36  21  14  12\n",
            "     0   1   2   3\n",
            "0   25  34  36  23\n",
            "2   37  27  20  30\n",
            "3   25  37  31  39\n",
            "6   34  20  28  20\n",
            "8   36  32  39  28\n",
            "10  32  29  26  10\n",
            "11  39  36  21  30\n",
            "12  26  25  18  27\n",
            "13  36  21  14  12\n",
            "14  28  28  20  21\n",
            "     0   1   2   3\n",
            "0   25  34  36  23\n",
            "1   14  24  22  23\n",
            "3   25  37  31  39\n",
            "4   11  37  23  19\n",
            "5   12  15  37  27\n",
            "7   27  14  33  27\n",
            "8   36  32  39  28\n",
            "9   12  10  37  30\n",
            "11  39  36  21  30\n",
            "12  26  25  18  27\n",
            "14  28  28  20  21\n",
            "     0   1   2   3\n",
            "0   25  34  36  23\n",
            "2   37  27  20  30\n",
            "3   25  37  31  39\n",
            "6   34  20  28  20\n",
            "7   27  14  33  27\n",
            "8   36  32  39  28\n",
            "11  39  36  21  30\n"
          ]
        }
      ]
    },
    {
      "cell_type": "markdown",
      "source": [
        "# Task #02 作業 02"
      ],
      "metadata": {
        "id": "5Gm6x_xcS8bN"
      }
    },
    {
      "cell_type": "markdown",
      "source": [
        "###練習：請利用 Pandas 計算給定的資料中不同 weekday 的 visitor 總和為何？\n",
        "❏ Sample Output: { 'Sun': 376, 'Mon': 782 }\n",
        "\n",
        "❏ Sample Code：\n",
        "\n",
        "import pandas as pd\n",
        "import numpy as np\n",
        "\n",
        "d = [\n",
        "    {'city': 'Austin', 'visitor': 139, 'weekday': 'Sun'},\n",
        "    {'city': 'Dallas', 'visitor': 237, 'weekday': 'Sun'},\n",
        "    {'city': 'Austin', 'visitor': 326, 'weekday': 'Mon'},\n",
        "    {'city': 'Dallas', 'visitor': 456, 'weekday': 'Mon'}\n",
        "]\n",
        "\n",
        "'''\n",
        "Your Code\n",
        "'''"
      ],
      "metadata": {
        "id": "PHqCygkyTF6P"
      }
    },
    {
      "cell_type": "code",
      "source": [
        "import pandas as pd\n",
        "import numpy as np\n",
        "\n",
        "d = [\n",
        "    {'city': 'Austin', 'visitor': 139, 'weekday': 'Sun'},\n",
        "    {'city': 'Dallas', 'visitor': 237, 'weekday': 'Sun'},\n",
        "    {'city': 'Austin', 'visitor': 326, 'weekday': 'Mon'},\n",
        "    {'city': 'Dallas', 'visitor': 456, 'weekday': 'Mon'}\n",
        "]\n",
        "print('Data output：')\n",
        "print(d)\n",
        "df = pd.DataFrame(d)\n",
        "print(df)\n"
      ],
      "metadata": {
        "colab": {
          "base_uri": "https://localhost:8080/"
        },
        "id": "tXQ1YJXyTTJi",
        "outputId": "b8a5de67-9719-40e2-f481-b74269394f6a"
      },
      "execution_count": 31,
      "outputs": [
        {
          "output_type": "stream",
          "name": "stdout",
          "text": [
            "Data output：\n",
            "[{'city': 'Austin', 'visitor': 139, 'weekday': 'Sun'}, {'city': 'Dallas', 'visitor': 237, 'weekday': 'Sun'}, {'city': 'Austin', 'visitor': 326, 'weekday': 'Mon'}, {'city': 'Dallas', 'visitor': 456, 'weekday': 'Mon'}]\n",
            "     city  visitor weekday\n",
            "0  Austin      139     Sun\n",
            "1  Dallas      237     Sun\n",
            "2  Austin      326     Mon\n",
            "3  Dallas      456     Mon\n"
          ]
        }
      ]
    },
    {
      "cell_type": "code",
      "source": [
        "import pandas as pd\n",
        "import numpy as np\n",
        "\n",
        "d = [\n",
        "    {'city': 'Austin', 'visitor': 139, 'weekday': 'Sun'},\n",
        "    {'city': 'Dallas', 'visitor': 237, 'weekday': 'Sun'},\n",
        "    {'city': 'Austin', 'visitor': 326, 'weekday': 'Mon'},\n",
        "    {'city': 'Dallas', 'visitor': 456, 'weekday': 'Mon'}\n",
        "]\n",
        "\n",
        "# 創建一個DataFrame\n",
        "df = pd.DataFrame(d)\n",
        "print(df)\n",
        "print('------------')\n",
        "\n",
        "sun_weekday = df[df['weekday'] == 'Sun'] # 篩選出weekday為Sun的列\n",
        "sun_visitor = sun_weekday['visitor'].sum() # 加總visitor欄位\n",
        "\n",
        "mon_weekday = df[df['weekday'] == 'Mon'] #篩選出weekday為Mon的列\n",
        "mon_visitor = mon_weekday['visitor'].sum() #加總visitor欄位\n",
        "\n",
        "print(f\"Sun: {sun_visitor},Mon: {mon_visitor}\")\n"
      ],
      "metadata": {
        "colab": {
          "base_uri": "https://localhost:8080/"
        },
        "id": "V7ChnjOQUicH",
        "outputId": "a680685f-9f72-45bd-bd25-85ae66833838"
      },
      "execution_count": 43,
      "outputs": [
        {
          "output_type": "stream",
          "name": "stdout",
          "text": [
            "     city  visitor weekday\n",
            "0  Austin      139     Sun\n",
            "1  Dallas      237     Sun\n",
            "2  Austin      326     Mon\n",
            "3  Dallas      456     Mon\n",
            "------------\n",
            "Sun: 376,Mon: 782\n"
          ]
        }
      ]
    }
  ]
}