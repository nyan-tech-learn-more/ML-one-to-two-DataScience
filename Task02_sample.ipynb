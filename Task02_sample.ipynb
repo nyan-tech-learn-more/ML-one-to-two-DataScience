{
  "nbformat": 4,
  "nbformat_minor": 0,
  "metadata": {
    "colab": {
      "provenance": [],
      "toc_visible": true,
      "authorship_tag": "ABX9TyP+Xfuv5h8tQT6UaS8o48fv",
      "include_colab_link": true
    },
    "kernelspec": {
      "name": "python3",
      "display_name": "Python 3"
    },
    "language_info": {
      "name": "python"
    }
  },
  "cells": [
    {
      "cell_type": "markdown",
      "metadata": {
        "id": "view-in-github",
        "colab_type": "text"
      },
      "source": [
        "<a href=\"https://colab.research.google.com/github/nyan-tech-learn-more/ML-one-to-two-DataScience/blob/main/Task02_sample.ipynb\" target=\"_parent\"><img src=\"https://colab.research.google.com/assets/colab-badge.svg\" alt=\"Open In Colab\"/></a>"
      ]
    },
    {
      "cell_type": "markdown",
      "source": [
        "### 安裝Pandas"
      ],
      "metadata": {
        "id": "GoRrBqiKAlB_"
      }
    },
    {
      "cell_type": "code",
      "execution_count": null,
      "metadata": {
        "colab": {
          "base_uri": "https://localhost:8080/"
        },
        "id": "YD3mJoQr7Ka0",
        "outputId": "5294e2ef-8234-4573-ae49-208e3b85006d"
      },
      "outputs": [
        {
          "output_type": "stream",
          "name": "stdout",
          "text": [
            "Requirement already satisfied: requests in /usr/local/lib/python3.10/dist-packages (2.31.0)\n",
            "Requirement already satisfied: charset-normalizer<4,>=2 in /usr/local/lib/python3.10/dist-packages (from requests) (3.3.2)\n",
            "Requirement already satisfied: idna<4,>=2.5 in /usr/local/lib/python3.10/dist-packages (from requests) (3.7)\n",
            "Requirement already satisfied: urllib3<3,>=1.21.1 in /usr/local/lib/python3.10/dist-packages (from requests) (2.0.7)\n",
            "Requirement already satisfied: certifi>=2017.4.17 in /usr/local/lib/python3.10/dist-packages (from requests) (2024.2.2)\n",
            "Requirement already satisfied: pandas in /usr/local/lib/python3.10/dist-packages (2.0.3)\n",
            "Requirement already satisfied: python-dateutil>=2.8.2 in /usr/local/lib/python3.10/dist-packages (from pandas) (2.8.2)\n",
            "Requirement already satisfied: pytz>=2020.1 in /usr/local/lib/python3.10/dist-packages (from pandas) (2023.4)\n",
            "Requirement already satisfied: tzdata>=2022.1 in /usr/local/lib/python3.10/dist-packages (from pandas) (2024.1)\n",
            "Requirement already satisfied: numpy>=1.21.0 in /usr/local/lib/python3.10/dist-packages (from pandas) (1.25.2)\n",
            "Requirement already satisfied: six>=1.5 in /usr/local/lib/python3.10/dist-packages (from python-dateutil>=2.8.2->pandas) (1.16.0)\n"
          ]
        }
      ],
      "source": [
        "!pip install requests\n",
        "!pip install pandas"
      ]
    },
    {
      "cell_type": "markdown",
      "source": [
        "### 建立Pandas物件與外部資料存取"
      ],
      "metadata": {
        "id": "tI_o1_Da9u52"
      }
    },
    {
      "cell_type": "code",
      "source": [
        "#Series 物件\n",
        "#Series是Pandas中最基本的數據結構之一，它是一維數據結構，類似於Python中的列表或數組。創建Series物件可以使用以下代碼：\n",
        "#想要利Pandas Series來儲存單維度的資料，就需要先建立Pandas Series物件\n",
        "\n",
        "import pandas as pd\n",
        "#建立一個Series 物件,宣告一個pandas的Series類型資料，非常簡單的使用.Series()並將數值放到一個變數s中。\n",
        "s = pd.Series([1,3,5,7,9])\n",
        "print(s)\n",
        "#輸出結果如下是會以一維序列的形式："
      ],
      "metadata": {
        "colab": {
          "base_uri": "https://localhost:8080/"
        },
        "id": "bBziNvlJ-A8f",
        "outputId": "91bec01d-c6d8-44d0-8bbd-8b22ce3dc6da"
      },
      "execution_count": null,
      "outputs": [
        {
          "output_type": "stream",
          "name": "stdout",
          "text": [
            "0    1\n",
            "1    3\n",
            "2    5\n",
            "3    7\n",
            "4    9\n",
            "dtype: int64\n"
          ]
        }
      ]
    },
    {
      "cell_type": "code",
      "source": [
        "#**DataFrame物件**\n",
        "\n",
        "#DataFrame是Pandas中的另一個重要數據結構，它是一個二維表格，類似於關聯數據庫中的表格或Excel中的工作表。創建DataFrame物件可以使用以下代碼\n",
        "\n",
        "import pandas as pd\n",
        "\n",
        "# 創建一個DataFrame物件, 格式為字典dict\n",
        "data = {'name': ['Alice', 'Bob', 'Charlie', 'David'],\n",
        "        'age': [25, 32, 18, 47],\n",
        "        'city': ['New York', 'Paris', 'London', 'Berlin']}\n",
        "\n",
        "#上面我們定義了一組數據data，並用.DataFrame()將它轉成DataFrame。DataFrame和Series一樣，若沒有特別定義index的話它會自動的分配。\n",
        "df = pd.DataFrame(data)\n",
        "print(df)\n",
        "\n",
        "#DataFrame物件的列可以通過列名訪問，行可以通過索引或標籤訪問。\n"
      ],
      "metadata": {
        "colab": {
          "base_uri": "https://localhost:8080/"
        },
        "id": "ungp1dPHAvVD",
        "outputId": "d6547bc0-8639-476c-e0a2-e7676c988619"
      },
      "execution_count": null,
      "outputs": [
        {
          "output_type": "stream",
          "name": "stdout",
          "text": [
            "      name  age      city\n",
            "0    Alice   25  New York\n",
            "1      Bob   32     Paris\n",
            "2  Charlie   18    London\n",
            "3    David   47    Berlin\n"
          ]
        }
      ]
    },
    {
      "cell_type": "code",
      "source": [
        "#外部資料存取\n",
        "import pandas as pd\n",
        "\n",
        "#Pandas 支援各種外部資料存取，如 CSV、Excel、SQL、JSON 等，讀取不同格式文件可以這樣做：\n",
        "#讀取csv文件\n",
        "df = pd.read_csv('data.csv')\n",
        "df = pd.read_excel('data.xlsx')\n",
        "\n",
        "print(df)"
      ],
      "metadata": {
        "id": "AgCJUYfEB0p4"
      },
      "execution_count": null,
      "outputs": []
    },
    {
      "cell_type": "markdown",
      "source": [
        "### Series、DataFrame 的屬性"
      ],
      "metadata": {
        "id": "_R0MckyZCV44"
      }
    },
    {
      "cell_type": "code",
      "source": [
        "# **Series物件的屬性**\n",
        "\n",
        "# Series物件有一些常用的屬性，包括values、index、dtype和shape等。\n",
        "# values屬性返回Series物件中的元素\n",
        "# index屬性返回索\n",
        "# dtype屬性返回數據類型\n",
        "# shape屬性返回數據形狀\n",
        "import pandas as pd\n",
        "\n",
        "# 創建一個Series物件\n",
        "a = [1, 3, 5, 7, 9]\n",
        "s = pd.Series(a)\n",
        "print(s)\n",
        "\n",
        "print(s.values) #return value , [1 3 5 7 9]\n",
        "print(s.index) #return index , RangeIndex(start=0, stop=5, step=1)\n",
        "print(s.dtype) #return data type , dtype: int64\n",
        "print(s.shape) #Series 物件中維度的數量和大小,五個, (5,)\n",
        "print(s.shape[0]) #確認物件中元素的數量,[0]是固定用法, 5\n",
        "\n"
      ],
      "metadata": {
        "colab": {
          "base_uri": "https://localhost:8080/"
        },
        "id": "a_ClW81CCgrc",
        "outputId": "f93a922e-1a8a-4c11-cd6d-32e4c21af8b0"
      },
      "execution_count": null,
      "outputs": [
        {
          "output_type": "stream",
          "name": "stdout",
          "text": [
            "0    1\n",
            "1    3\n",
            "2    5\n",
            "3    7\n",
            "4    9\n",
            "dtype: int64\n",
            "[1 3 5 7 9]\n",
            "RangeIndex(start=0, stop=5, step=1)\n",
            "int64\n",
            "(5,)\n",
            "5\n"
          ]
        }
      ]
    },
    {
      "cell_type": "code",
      "source": [
        "#DataFrame物件有一些常用的屬性，包括values、index、columns、dtype和shape等。\n",
        "#values屬性返回DataFrame物件中的元素，index屬性返回行索引，columns屬性返回列索引，dtype屬性返回數據類型，shape屬性返回數據形狀\n",
        "\n",
        "import pandas as pd\n",
        "\n",
        "# 創建一個DataFrame物件\n",
        "data = {'name': ['Alice', 'Bob', 'Charlie', 'David'],\n",
        "        'age': [25, 32, 18, 47],\n",
        "        'city': ['New York', 'Paris', 'London', 'Berlin']}\n",
        "df = pd.DataFrame(data)\n",
        "#存取DataFrame物件\n",
        "print(df) #處理過後的格式\n",
        "print()\n",
        "print(df.values) #回傳數值\n",
        "print()\n",
        "print(df.index)\n",
        "#RangeIndex(start=0, stop=4, step=1)\n",
        "\n",
        "print(df.columns) #回傳欄位有哪些\n",
        "#Index(['name', 'age', 'city'], dtype='object')\n",
        "\n",
        "print(df.dtypes) #回傳欄位的資料型態\n",
        "\n",
        "print(df.shape) #(4,3) 4個row(直), 3個columns(橫)\n",
        "#df.shape 輸出一個元組，其中包含 DataFrame 物件的維度大小，輸出為 (4, 3)，表示以下含義：\n",
        "#4: DataFrame 中有 4 個 rows (列)\n",
        "#3: DataFrame 中有 3 個 columns (行)\n",
        "#df.shape[0] 會輸出 4，代表資料有 4 列，而 df.shape[1] 會輸出 3，代表資料有 3 行。"
      ],
      "metadata": {
        "colab": {
          "base_uri": "https://localhost:8080/"
        },
        "id": "GyNqA8wUE83i",
        "outputId": "1a9fe5e0-f5a6-40e8-84f4-1ed37339b2e1"
      },
      "execution_count": null,
      "outputs": [
        {
          "output_type": "stream",
          "name": "stdout",
          "text": [
            "      name  age      city\n",
            "0    Alice   25  New York\n",
            "1      Bob   32     Paris\n",
            "2  Charlie   18    London\n",
            "3    David   47    Berlin\n",
            "\n",
            "[['Alice' 25 'New York']\n",
            " ['Bob' 32 'Paris']\n",
            " ['Charlie' 18 'London']\n",
            " ['David' 47 'Berlin']]\n",
            "\n",
            "RangeIndex(start=0, stop=4, step=1)\n",
            "Index(['name', 'age', 'city'], dtype='object')\n",
            "name    object\n",
            "age      int64\n",
            "city    object\n",
            "dtype: object\n",
            "(4, 3)\n"
          ]
        }
      ]
    },
    {
      "cell_type": "markdown",
      "source": [
        "### DataFrame 的資料選取"
      ],
      "metadata": {
        "id": "DyO3hx0TpU1H"
      }
    },
    {
      "cell_type": "code",
      "source": [
        "#DataFrame物件支持多種資料選取方式，包括列選取、行選取和切片選取等。\n",
        "#其中列選取和行選取是最常用的資料選取方式。第一種方式「行(columns)選取」可以通過欄位進行選取。例如：\n",
        "\n",
        "import pandas as pd\n",
        "\n",
        "# 創建一個DataFrame物件\n",
        "data = {'name': ['Alice', 'Bob', 'Charlie', 'David'],\n",
        "        'age': [25, 32, 18, 47],\n",
        "        'city': ['New York', 'Paris', 'London', 'Berlin']}\n",
        "\n",
        "df = pd.DataFrame(data)\n",
        "\n",
        "print(df['name']) #直的行，選姓名, 單一行\n",
        "\n",
        "print('---------------------------------------------------')\n",
        "\n",
        "#切片選取\n",
        "print(df[['name','city']]) #多行要注意括號[]\n",
        "\n",
        "print('---------------------------------------------------')\n",
        "\n",
        "#「列(row)選取」可以通過索引名稱或索引進行選取。例如：\n",
        "print(df[0:3]) #不包括3, 只有012列，所以Alice, bob , Charlie而已\n",
        "print('---------------------------------------------------')\n",
        "\n",
        "# 或是利用索引名稱進行選取\n",
        "# 會發現0123不見了，所以第一行變成name當index\n",
        "df.set_index('name', inplace=True) ## 將 '姓名' 列設置為索引，name 列現在是 DataFrame 的索引，數據按 name 列中的值排序。\n",
        "print(df['Alice':'Charlie'])\n"
      ],
      "metadata": {
        "colab": {
          "base_uri": "https://localhost:8080/"
        },
        "id": "8EIwZEcMpZ2e",
        "outputId": "f26d9a6d-2c51-43a7-ccf4-17e1c589979c"
      },
      "execution_count": null,
      "outputs": [
        {
          "output_type": "stream",
          "name": "stdout",
          "text": [
            "0      Alice\n",
            "1        Bob\n",
            "2    Charlie\n",
            "3      David\n",
            "Name: name, dtype: object\n",
            "---------------------------------------------------\n",
            "      name      city\n",
            "0    Alice  New York\n",
            "1      Bob     Paris\n",
            "2  Charlie    London\n",
            "3    David    Berlin\n",
            "---------------------------------------------------\n",
            "      name  age      city\n",
            "0    Alice   25  New York\n",
            "1      Bob   32     Paris\n",
            "2  Charlie   18    London\n",
            "---------------------------------------------------\n",
            "         age      city\n",
            "name                  \n",
            "Alice     25  New York\n",
            "Bob       32     Paris\n",
            "Charlie   18    London\n"
          ]
        }
      ]
    },
    {
      "cell_type": "code",
      "source": [
        " #DataFrame 支援一種用座標方式的二維選取。「.loc」是一個用於基於標籤（label）選擇行和列的方法，其中 .loc 用於純粹的標籤索引即行和列的名稱，基本語法如下：\n",
        "\n",
        " #df.loc[row_indexer, column_indexer]\n",
        "\n",
        " #其中 row_indexer 是用於選擇列的標籤，column_indexer 是用於選擇行的標籤。\n",
        " #這兩個參數都可以是一個標籤（單一標籤），也可以是一個標籤列表（多個標籤）。\n",
        " #當 row_indexer 和 column_indexer 都是標籤列表時，返回的是一個子 DataFrame\n",
        "\n",
        "import pandas as pd\n",
        "\n",
        "data = {'name': ['Alice', 'Bob', 'Charlie', 'David'],\n",
        "        'age': [25, 32, 18, 47],\n",
        "        'city': ['New York', 'Paris', 'London', 'Berlin']}\n",
        "df = pd.DataFrame(data) #pd.DataFrame把data內資料作轉換存到df變數\n",
        "df.set_index('name', inplace=True) #用name當索引\n",
        "\n",
        "# 選取 \"Alice\" 和 \"Charlie\" 的 \"age\" 和 \"city\"\n",
        "result = df.loc[['Alice', 'Charlie'],['age','city']]\n",
        "print(result)\n",
        "\n",
        "\n",
        "\n",
        "\n"
      ],
      "metadata": {
        "colab": {
          "base_uri": "https://localhost:8080/"
        },
        "id": "CM0Du36cuDZO",
        "outputId": "2e2c13d4-fca7-4d5b-9584-845cc55b6cc5"
      },
      "execution_count": null,
      "outputs": [
        {
          "output_type": "stream",
          "name": "stdout",
          "text": [
            "         age      city\n",
            "name                  \n",
            "Alice     25  New York\n",
            "Charlie   18    London\n"
          ]
        }
      ]
    },
    {
      "cell_type": "code",
      "source": [
        "#需要根據特定的條件篩選出DataFrame中的數據時，可以使用遮罩選取的方法。\n",
        "#遮罩選取指的是根據一個或多個條件建立一個布林遮罩，然後用這個遮罩選取DataFrame中的數據\n",
        "\n",
        "import pandas as pd\n",
        "\n",
        "# 創建一個DataFrame物件\n",
        "data = {'name': ['Alice', 'Bob', 'Charlie', 'David'],\n",
        "        'age': [25, 32, 18, 47],\n",
        "        'city': ['New York', 'Paris', 'London', 'Berlin']}\n",
        "df = pd.DataFrame(data)\n",
        "\n",
        "#使用遮罩選取\n",
        "mask = df['age'] > 30\n",
        "print(df[mask])\n",
        "\n",
        "#-----------------------------\n",
        "print('---------------------------')\n",
        "\n",
        "# 使用多個條件組合使用遮罩選取\n",
        "# 創建一個年齡大於30且城市為Paris的遮罩\n",
        "mask = (df['age'] > 30 ) & (df['city'] == 'Paris') #條件要括號分開\n",
        "print(df[mask])\n",
        "\n",
        "#在這個的例子中，我們使用了&符號將年齡大於30和城市為Paris這兩個條件組合起來，然後使用這個遮罩選取了DataFrame中符合條件的數據。"
      ],
      "metadata": {
        "colab": {
          "base_uri": "https://localhost:8080/"
        },
        "id": "RaW11vPr09Mi",
        "outputId": "3b473914-b942-41d9-9819-815265f1ecc5"
      },
      "execution_count": null,
      "outputs": [
        {
          "output_type": "stream",
          "name": "stdout",
          "text": [
            "    name  age    city\n",
            "1    Bob   32   Paris\n",
            "3  David   47  Berlin\n",
            "---------------------------\n",
            "  name  age   city\n",
            "1  Bob   32  Paris\n"
          ]
        }
      ]
    },
    {
      "cell_type": "markdown",
      "source": [
        "### DataFrame 的算術運算與排序"
      ],
      "metadata": {
        "id": "ucIQk2483AMj"
      }
    },
    {
      "cell_type": "code",
      "source": [
        "import pandas as pd\n",
        "\n",
        "# 創建兩個DataFrame物件\n",
        "data1 = {'name': ['Alice', 'Bob', 'Charlie', 'David'],\n",
        "         'age': [25, 32, 18, 47],\n",
        "         'city': ['New York', 'Paris', 'London', 'Berlin']}\n",
        "df1 = pd.DataFrame(data1)\n",
        "\n",
        "data2 = {'name': ['Eva', 'Frank', 'Grace', 'Henry'],\n",
        "         'age': [29, 23, 37, 31],\n",
        "         'city': ['Rome', 'Sydney', 'Tokyo', 'Moscow']}\n",
        "df2 = pd.DataFrame(data2)\n",
        "\n",
        "# 進行加法\n",
        "print(df1+df2)\n",
        "\n",
        "\n"
      ],
      "metadata": {
        "colab": {
          "base_uri": "https://localhost:8080/"
        },
        "id": "LlEsay2l-2VZ",
        "outputId": "a2b00ddd-7ea9-4cde-e05b-06ba73ef3c26"
      },
      "execution_count": null,
      "outputs": [
        {
          "output_type": "stream",
          "name": "stdout",
          "text": [
            "           name  age          city\n",
            "0      AliceEva   54  New YorkRome\n",
            "1      BobFrank   55   ParisSydney\n",
            "2  CharlieGrace   55   LondonTokyo\n",
            "3    DavidHenry   78  BerlinMoscow\n"
          ]
        }
      ]
    },
    {
      "cell_type": "code",
      "source": [
        "#DataFrame物件可以按照指定的列或行進行排序，例如\n",
        "\n",
        "import pandas as pd\n",
        "\n",
        "# 創建一個DataFrame物件\n",
        "data = {'name': ['Alice', 'Bob', 'Charlie', 'David'],\n",
        "        'age': [25, 32, 18, 47],\n",
        "        'city': ['New York', 'Paris', 'London', 'Berlin']}\n",
        "df = pd.DataFrame(data)\n",
        "\n",
        "# 按照age列進行排序，預設為升序排序，使用sort_values()\n",
        "#把df做排序, 在下面的程式中，我想排序age的資料，只需要在資料後面加上.sort_values()並在括弧內加上要排序的column\n",
        "print(df.sort_values(by='age'))\n",
        "print('---------')\n",
        "\n",
        "# 按照age列進行降序排序\n",
        "print(df.sort_values(by='age',ascending=False)) #預設Ture, False會反過來\n",
        "print('---------')\n",
        "\n",
        "# 按照索引進行排序\n",
        "print(df.sort_index())"
      ],
      "metadata": {
        "colab": {
          "base_uri": "https://localhost:8080/"
        },
        "id": "mO76ozRsDZhr",
        "outputId": "1ad1fa1f-bc3e-47b6-81fc-e2281c9bc6c3"
      },
      "execution_count": null,
      "outputs": [
        {
          "output_type": "stream",
          "name": "stdout",
          "text": [
            "      name  age      city\n",
            "2  Charlie   18    London\n",
            "0    Alice   25  New York\n",
            "1      Bob   32     Paris\n",
            "3    David   47    Berlin\n",
            "---------\n",
            "      name  age      city\n",
            "3    David   47    Berlin\n",
            "1      Bob   32     Paris\n",
            "0    Alice   25  New York\n",
            "2  Charlie   18    London\n",
            "---------\n",
            "      name  age      city\n",
            "0    Alice   25  New York\n",
            "1      Bob   32     Paris\n",
            "2  Charlie   18    London\n",
            "3    David   47    Berlin\n"
          ]
        }
      ]
    },
    {
      "cell_type": "markdown",
      "source": [
        "### DataFrame 資料合併與重組"
      ],
      "metadata": {
        "id": "A5RtguPFFnFs"
      }
    },
    {
      "cell_type": "code",
      "source": [
        "##DataFrame物件可以根據指定的條件將不同的DataFrame物件合併在一起。常用的方法包括concat()、merge()和join() 等。\n",
        "#concat() 方法\n",
        "#使用 concat() 方法可以將多個DataFrame物件沿著指定的軸合併在一起。例如：\n",
        "\n",
        "import pandas as pd\n",
        "\n",
        "# 創建兩個DataFrame物件\n",
        "data1 = {'name': ['Alice', 'Bob', 'Charlie', 'David'],\n",
        "         'age': [25, 32, 18, 47],\n",
        "         'city': ['New York', 'Paris', 'London', 'Berlin']}\n",
        "df1 = pd.DataFrame(data1)\n",
        "\n",
        "data2 = {'name': ['Eva', 'Frank', 'Grace', 'Henry'],\n",
        "         'age': [29, 23, 37, 31],\n",
        "         'city': ['Rome', 'Sydney', 'Tokyo', 'Moscow']}\n",
        "df2 = pd.DataFrame(data2)\n",
        "\n",
        "\n",
        "#沿著列軸合併\n",
        "print(pd.concat([df1,df2],axis=0))"
      ],
      "metadata": {
        "colab": {
          "base_uri": "https://localhost:8080/"
        },
        "id": "vm7OBGHNFoC7",
        "outputId": "1c2e476e-3ec7-4c1d-ef38-7e10e74cf368"
      },
      "execution_count": null,
      "outputs": [
        {
          "output_type": "stream",
          "name": "stdout",
          "text": [
            "      name  age      city\n",
            "0    Alice   25  New York\n",
            "1      Bob   32     Paris\n",
            "2  Charlie   18    London\n",
            "3    David   47    Berlin\n",
            "0      Eva   29      Rome\n",
            "1    Frank   23    Sydney\n",
            "2    Grace   37     Tokyo\n",
            "3    Henry   31    Moscow\n"
          ]
        }
      ]
    },
    {
      "cell_type": "code",
      "source": [
        "#merge 使用merge()方法可以根據指定的欄位將兩個DataFrame物件合併在一起。例如：\n",
        "import pandas as pd\n",
        "\n",
        "# 創建兩個DataFrame物件\n",
        "data1 = {'name': ['Alice', 'Bob', 'Charlie', 'David'],\n",
        "         'age': [25, 32, 18, 47],\n",
        "         'city': ['New York', 'Paris', 'London', 'Berlin']}\n",
        "df1 = pd.DataFrame(data1)\n",
        "\n",
        "data2 = {'name': ['Alice', 'Bob', 'Charlie', 'David'],\n",
        "         'salary': [5000, 6000, 7000, 8000]}\n",
        "df2 = pd.DataFrame(data2)\n",
        "\n",
        "# 根據name欄位合併兩筆資料重疊column name (兩筆資料重疊column name相同可用)，若無指定 會自動尋找相同的column name\n",
        "print(pd.merge(df1, df2, on='name'))\n",
        "print('--------------')\n",
        "print(pd.merge(df1, df2))\n"
      ],
      "metadata": {
        "colab": {
          "base_uri": "https://localhost:8080/"
        },
        "id": "_Zv7lR6mJLOk",
        "outputId": "9c3bd519-05a0-42be-8561-7e70a525f220"
      },
      "execution_count": null,
      "outputs": [
        {
          "output_type": "stream",
          "name": "stdout",
          "text": [
            "      name  age      city  salary\n",
            "0    Alice   25  New York    5000\n",
            "1      Bob   32     Paris    6000\n",
            "2  Charlie   18    London    7000\n",
            "3    David   47    Berlin    8000\n",
            "--------------\n",
            "      name  age      city  salary\n",
            "0    Alice   25  New York    5000\n",
            "1      Bob   32     Paris    6000\n",
            "2  Charlie   18    London    7000\n",
            "3    David   47    Berlin    8000\n"
          ]
        }
      ]
    },
    {
      "cell_type": "code",
      "source": [
        "#join()方法\n",
        "\n",
        "# 使用 join() 方法可以將兩個DataFrame物件按照索引合併在一起。例如：\n",
        "import pandas as pd\n",
        "\n",
        "# 創建兩個DataFrame物件\n",
        "data1 = {'age': [25, 32, 18, 47],\n",
        "         'city': ['New York', 'Paris', 'London', 'Berlin']}\n",
        "df1 = pd.DataFrame(data1, index=['Alice', 'Bob', 'Charlie', 'David'])\n",
        "\n",
        "data2 = {'salary': [5000, 6000, 7000, 8000]}\n",
        "df2 = pd.DataFrame(data2, index=['Alice', 'Bob', 'Charlie', 'David'])\n",
        "\n",
        "#按照索引合併\n",
        "print(df1.join(df2))"
      ],
      "metadata": {
        "colab": {
          "base_uri": "https://localhost:8080/"
        },
        "id": "3C2jculUK7IQ",
        "outputId": "42155b9c-9226-482d-8445-0f9a94d2db44"
      },
      "execution_count": null,
      "outputs": [
        {
          "output_type": "stream",
          "name": "stdout",
          "text": [
            "         age      city  salary\n",
            "Alice     25  New York    5000\n",
            "Bob       32     Paris    6000\n",
            "Charlie   18    London    7000\n",
            "David     47    Berlin    8000\n"
          ]
        }
      ]
    },
    {
      "cell_type": "code",
      "source": [
        "#groupby\n",
        "#使用groupby()方法可以將資料依照自己要的column分組\n",
        "\n",
        "\n",
        "import pandas as pd\n",
        "\n",
        "data = {'name': ['Alice', 'Bob', 'Charlie', 'David', 'Emma', 'Frank'],\n",
        "        'age': [25, 32, 18, 47, 23, 31],\n",
        "        'gender': ['female', 'male', 'female', 'male', 'female', 'male'],\n",
        "        'city': ['New York', 'Paris', 'London', 'Berlin', 'New York', 'Paris'],\n",
        "        'salary': [50000, 80000, 25000, 100000, 35000, 75000]}\n",
        "df = pd.DataFrame(data)\n",
        "\n",
        "#是根據要的某一項資料做分組方便查找，根據不同組別做資料處理的概念。\n",
        "\n",
        "#想按照 \"city\" 這一列的值將 DataFrame 分組，\n",
        "#grouped = df.groupby('city') #依據city做分組\n",
        "grouped = df.groupby(['city', 'gender']) #可以將多個列的值作為分組條件\n",
        "\n",
        "#然後對每個城市的人口數、平均年齡、平均薪資進行統計分析,name是加總幾個，年齡平均\n",
        "result = grouped.agg({'name':'count','age': 'mean', 'salary':'mean'})\n",
        "print(result)"
      ],
      "metadata": {
        "colab": {
          "base_uri": "https://localhost:8080/"
        },
        "id": "cp4Byg0mLwdr",
        "outputId": "fab9fb83-6ec1-4f42-e820-e3f239a1226d"
      },
      "execution_count": null,
      "outputs": [
        {
          "output_type": "stream",
          "name": "stdout",
          "text": [
            "                 name   age    salary\n",
            "city     gender                      \n",
            "Berlin   male       1  47.0  100000.0\n",
            "London   female     1  18.0   25000.0\n",
            "New York female     2  24.0   42500.0\n",
            "Paris    male       2  31.5   77500.0\n"
          ]
        }
      ]
    }
  ]
}