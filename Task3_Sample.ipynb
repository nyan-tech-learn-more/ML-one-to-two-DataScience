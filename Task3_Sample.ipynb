{
  "nbformat": 4,
  "nbformat_minor": 0,
  "metadata": {
    "colab": {
      "provenance": [],
      "authorship_tag": "ABX9TyPy0iFlukSZO+hTCbfzQx1R",
      "include_colab_link": true
    },
    "kernelspec": {
      "name": "python3",
      "display_name": "Python 3"
    },
    "language_info": {
      "name": "python"
    }
  },
  "cells": [
    {
      "cell_type": "markdown",
      "metadata": {
        "id": "view-in-github",
        "colab_type": "text"
      },
      "source": [
        "<a href=\"https://colab.research.google.com/github/nyan-tech-learn-more/ML-one-to-two-DataScience/blob/main/Task3_Sample.ipynb\" target=\"_parent\"><img src=\"https://colab.research.google.com/assets/colab-badge.svg\" alt=\"Open In Colab\"/></a>"
      ]
    },
    {
      "cell_type": "markdown",
      "source": [
        "### 發送請求 → 攔截回應"
      ],
      "metadata": {
        "id": "ZKCjPqI2Sadx"
      }
    },
    {
      "cell_type": "code",
      "execution_count": null,
      "metadata": {
        "id": "myXxQu1IQ8cA"
      },
      "outputs": [],
      "source": [
        "# 發送請求 → 攔截回應\n",
        "# 我們可以利用 requests 這個套件來模擬使用者「發送請求 → 接收回應」的行為：\n",
        "\n",
        "import requests\n",
        "\n",
        "url = XXX'\n",
        "r = requets.get(url)\n",
        "\n",
        "response = r.text\n",
        "\n",
        "#只是這邊取回來的資料其實是一個「長得很像 HTML 原始碼的字串」，必須經過處理後才可以拿到資料。可以嘗試將「網址」的部分換成真實的網址試試看，執行後的 respone 應該會印出一段 HTML 原始碼。"
      ]
    },
    {
      "cell_type": "markdown",
      "source": [
        "### 解析內容"
      ],
      "metadata": {
        "id": "IO3bYYIHSdnh"
      }
    },
    {
      "cell_type": "code",
      "source": [
        "#對於 HTML 字串可以利用 beatifulsoup 進行解析，解析成一個樹狀結構：\n",
        "from bs4 import BeautifulSoup\n",
        "d = BeautifulSoup(r.text)\n",
        "print(d)"
      ],
      "metadata": {
        "id": "QTk8Vu2NSgxo"
      },
      "execution_count": null,
      "outputs": []
    },
    {
      "cell_type": "markdown",
      "source": [
        "### 解析內容"
      ],
      "metadata": {
        "id": "yF7K94bHVHjY"
      }
    },
    {
      "cell_type": "code",
      "source": [
        "#!pip install beautifulsoup4\n",
        "#!pip install requests\n",
        "import requests\n",
        "r = requests.get('https://rate.bot.com.tw/xrt?Lang=zh-TW')\n",
        "\n",
        "from bs4 import BeautifulSoup\n",
        "\n",
        "d = BeautifulSoup(r.text)\n",
        "\n",
        "title = d.find('title') #找到html的title\n",
        "print(title)"
      ],
      "metadata": {
        "colab": {
          "base_uri": "https://localhost:8080/"
        },
        "id": "qh7N9K92VIaY",
        "outputId": "6d861726-afae-4c14-8ff0-e917bf74c519"
      },
      "execution_count": null,
      "outputs": [
        {
          "output_type": "stream",
          "name": "stdout",
          "text": [
            "Requirement already satisfied: beautifulsoup4 in /usr/local/lib/python3.10/dist-packages (4.12.3)\n",
            "Requirement already satisfied: soupsieve>1.2 in /usr/local/lib/python3.10/dist-packages (from beautifulsoup4) (2.5)\n",
            "Requirement already satisfied: requests in /usr/local/lib/python3.10/dist-packages (2.31.0)\n",
            "Requirement already satisfied: charset-normalizer<4,>=2 in /usr/local/lib/python3.10/dist-packages (from requests) (3.3.2)\n",
            "Requirement already satisfied: idna<4,>=2.5 in /usr/local/lib/python3.10/dist-packages (from requests) (3.7)\n",
            "Requirement already satisfied: urllib3<3,>=1.21.1 in /usr/local/lib/python3.10/dist-packages (from requests) (2.0.7)\n",
            "Requirement already satisfied: certifi>=2017.4.17 in /usr/local/lib/python3.10/dist-packages (from requests) (2024.2.2)\n",
            "<title>臺灣銀行牌告匯率</title>\n"
          ]
        }
      ]
    }
  ]
}